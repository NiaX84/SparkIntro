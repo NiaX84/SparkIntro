{
 "cells": [
  {
   "cell_type": "code",
   "execution_count": 1,
   "metadata": {},
   "outputs": [
    {
     "data": {
      "text/html": [
       "\n",
       "        <div>\n",
       "            <p><b>SparkContext</b></p>\n",
       "\n",
       "            <p><a href=\"http://ws-esksd-poso.erni2.ch:4040\">Spark UI</a></p>\n",
       "\n",
       "            <dl>\n",
       "              <dt>Version</dt>\n",
       "                <dd><code>v2.3.1</code></dd>\n",
       "              <dt>Master</dt>\n",
       "                <dd><code>local[*]</code></dd>\n",
       "              <dt>AppName</dt>\n",
       "                <dd><code>PySparkShell</code></dd>\n",
       "            </dl>\n",
       "        </div>\n",
       "        "
      ],
      "text/plain": [
       "<SparkContext master=local[*] appName=PySparkShell>"
      ]
     },
     "execution_count": 1,
     "metadata": {},
     "output_type": "execute_result"
    }
   ],
   "source": [
    "sc"
   ]
  },
  {
   "cell_type": "code",
   "execution_count": 2,
   "metadata": {},
   "outputs": [],
   "source": [
    "from scipy.stats import norm\n",
    "import numpy.random as rnd"
   ]
  },
  {
   "cell_type": "code",
   "execution_count": 3,
   "metadata": {},
   "outputs": [],
   "source": [
    "norm_1 = norm(loc=0, scale=1)\n",
    "norm_2 = norm(loc=0, scale=1)\n",
    "norm_3 = norm(loc=0, scale=1)\n",
    "    \n",
    "uniform_sample = rnd.mtrand.RandomState().rand(1000000)\n",
    "    \n",
    "inverted_quantiles_1 = sc.parallelize(uniform_sample).map(lambda x: norm_1.ppf(x))\n",
    "inverted_quantiles_2 = sc.parallelize(uniform_sample).map(lambda x: norm_2.ppf(x))\n",
    "inverted_quantiles_3 = sc.parallelize(uniform_sample).map(lambda x: norm_3.ppf(x))\n",
    "\n",
    "combined_sample = list(zip(inverted_quantiles_1.collect(), inverted_quantiles_2.collect(), inverted_quantiles_3.collect()))\n",
    "\n",
    "aggregated_distribution = sc.parallelize(combined_sample).map(lambda x: sum(x))\n"
   ]
  },
  {
   "cell_type": "code",
   "execution_count": 52,
   "metadata": {},
   "outputs": [
    {
     "name": "stdout",
     "output_type": "stream",
     "text": [
      "0.000816455510205922\n"
     ]
    }
   ],
   "source": [
    "#print(inverted_quantiles_1.mean())\n",
    "#print(inverted_quantiles_2.mean())\n",
    "#print(inverted_quantiles_3.mean())\n",
    "print(aggregated_distribution.mean())"
   ]
  },
  {
   "cell_type": "code",
   "execution_count": null,
   "metadata": {},
   "outputs": [],
   "source": []
  }
 ],
 "metadata": {
  "kernelspec": {
   "display_name": "Python 3",
   "language": "python",
   "name": "python3"
  },
  "language_info": {
   "codemirror_mode": {
    "name": "ipython",
    "version": 3
   },
   "file_extension": ".py",
   "mimetype": "text/x-python",
   "name": "python",
   "nbconvert_exporter": "python",
   "pygments_lexer": "ipython3",
   "version": "3.6.5"
  }
 },
 "nbformat": 4,
 "nbformat_minor": 2
}
