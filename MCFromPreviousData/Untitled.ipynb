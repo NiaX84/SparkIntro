{
 "cells": [
  {
   "cell_type": "code",
   "execution_count": 18,
   "metadata": {},
   "outputs": [],
   "source": [
    "from scipy.stats import norm\n",
    "from pyspark.sql import SparkSession\n",
    "import numpy as np\n",
    "from random import choice\n",
    "import string\n",
    "\n",
    "\n",
    "def prepare_simulation(seed, sample, n_simulations):\n",
    "    random_state = np.random.RandomState(seed)\n",
    "    simulation_matrix = random_state.choice(sample, size=1000)\n",
    "    return simulation_matrix\n",
    "        "
   ]
  },
  {
   "cell_type": "code",
   "execution_count": 22,
   "metadata": {},
   "outputs": [],
   "source": [
    "\n",
    "norm_1 = norm(loc=0, scale=1)\n",
    "sample = np.sort(norm_1.rvs(10000))\n",
    "    \n",
    "n_trials = 1000\n",
    "n_simulations = 1000"
   ]
  },
  {
   "cell_type": "code",
   "execution_count": 23,
   "metadata": {},
   "outputs": [
    {
     "data": {
      "text/plain": [
       "array([[-1.02901418,  1.96696447, -0.94178639, ...,  1.76057675,\n",
       "        -0.44165788,  2.72016311],\n",
       "       [ 0.59791099, -0.95915366, -0.43418832, ...,  0.81385623,\n",
       "        -0.01505007, -0.64924373],\n",
       "       [ 0.1722162 , -0.01879642, -1.62795492, ..., -1.60756019,\n",
       "         0.04169399,  0.55999799],\n",
       "       ...,\n",
       "       [-0.54410581, -2.29258884,  0.7013939 , ...,  0.79733029,\n",
       "        -1.06663048,  0.57046882],\n",
       "       [ 2.00720113,  0.3130215 ,  0.78270239, ...,  0.45528193,\n",
       "         0.51143945, -1.37036695],\n",
       "       [-0.16791813,  0.84403547, -0.32955597, ...,  0.01761268,\n",
       "         1.16755336,  1.56980772]])"
      ]
     },
     "execution_count": 23,
     "metadata": {},
     "output_type": "execute_result"
    }
   ],
   "source": [
    "spark_session = SparkSession.builder.master('local[*]').getOrCreate()\n",
    "sc = spark_session.sparkContext\n",
    "\n",
    "    \n",
    "seeds = [int.from_bytes(bytearray(''.join(choice(string.ascii_lowercase) for _ in range(4)), encoding='utf-8'), 'big') for _ in range(n_trials)]\n",
    "    \n",
    "simulation_matrix = sc.parallelize(seeds).flatMap(lambda x: prepare_simulation(x, sample, n_simulations))\n",
    "combined_simulation = np.array(simulation_matrix.collect()).reshape((n_trials, n_simulations))\n",
    "    \n",
    "spark_session.stop()\n",
    "\n",
    "combined_simulation"
   ]
  },
  {
   "cell_type": "code",
   "execution_count": null,
   "metadata": {},
   "outputs": [],
   "source": []
  }
 ],
 "metadata": {
  "kernelspec": {
   "display_name": "Python 3",
   "language": "python",
   "name": "python3"
  },
  "language_info": {
   "codemirror_mode": {
    "name": "ipython",
    "version": 3
   },
   "file_extension": ".py",
   "mimetype": "text/x-python",
   "name": "python",
   "nbconvert_exporter": "python",
   "pygments_lexer": "ipython3",
   "version": "3.6.5"
  }
 },
 "nbformat": 4,
 "nbformat_minor": 2
}
